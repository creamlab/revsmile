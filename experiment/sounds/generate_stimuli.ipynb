{
 "cells": [
  {
   "cell_type": "code",
   "execution_count": 2,
   "metadata": {
    "ExecuteTime": {
     "end_time": "2021-06-17T04:22:23.476555Z",
     "start_time": "2021-06-17T04:22:23.435446Z"
    }
   },
   "outputs": [],
   "source": [
    "%matplotlib inline\n",
    "import sys\n",
    "import matplotlib.pyplot as plt\n",
    "import glob, os\n",
    "import numpy as np\n",
    "import csv\n",
    "import pandas as pd\n",
    "import seaborn as sns\n",
    "sns.set_style(\"whitegrid\")\n",
    "from IPython.display import Markdown, display, Audio\n",
    "from IPython.core.interactiveshell import InteractiveShell\n",
    "InteractiveShell.ast_node_interactivity = \"all\"\n",
    "sys.path.insert(0, os.path.abspath('../../../../cleese'))\n",
    "import cleese"
   ]
  },
  {
   "cell_type": "markdown",
   "metadata": {},
   "source": [
    "# Generate stimuli for smile revcor experiment"
   ]
  },
  {
   "cell_type": "markdown",
   "metadata": {},
   "source": [
    "## Generate sound files and BPF files "
   ]
  },
  {
   "cell_type": "code",
   "execution_count": 62,
   "metadata": {
    "ExecuteTime": {
     "end_time": "2021-06-16T04:59:12.875059Z",
     "start_time": "2021-06-16T04:59:08.656309Z"
    }
   },
   "outputs": [],
   "source": [
    "input_file = 'base_sounds/gomot_a.wav'\n",
    "config_file = \"random_eq_profile.py\"\n",
    "\n",
    "cleese.process(soundData=input_file, configFile=config_file)"
   ]
  },
  {
   "cell_type": "markdown",
   "metadata": {},
   "source": [
    "## Convert bpf files"
   ]
  },
  {
   "cell_type": "markdown",
   "metadata": {},
   "source": [
    "- Cleese suffixes bpf files with _BPF (ex. *gomot_a.0001.eq_BPF.txt*), while experiment expects to have the same name as soundfile (ex. *gomot_a.0001.eq.txt*) \n",
    "- Cleese writes BPF as a single row (*time numberOfBands freq1 value1 freq2 value2 freq3 value3*), while experiment expects numberOfBands rows of *freq1 value1*"
   ]
  },
  {
   "cell_type": "code",
   "execution_count": 64,
   "metadata": {
    "ExecuteTime": {
     "end_time": "2021-06-16T04:59:59.608036Z",
     "start_time": "2021-06-16T04:59:59.598062Z"
    }
   },
   "outputs": [],
   "source": [
    "# list bpf files\n",
    "bpf_files = glob.glob('./cleese_output/2021-06-16_06-59-08/eq/*_BPF.txt')\n",
    "# rename\n",
    "for bpf_file in bpf_files:\n",
    "    \n",
    "    #read info\n",
    "    info=[]\n",
    "    with open(bpf_file,'r') as file:\n",
    "        reader = csv.reader(file, delimiter=' ')\n",
    "        for row in reader:\n",
    "            info.append(row)\n",
    "    params = info[0]\n",
    "    \n",
    "    # reformat as rows of freq,value pairs\n",
    "    info = [[x,y] for x,y in zip(params[2::2],params[3::2])]\n",
    "    \n",
    "    # save in new file name\n",
    "    dirname = os.path.dirname(bpf_file)\n",
    "    basename = os.path.basename(bpf_file)\n",
    "    new_basename = basename.replace('_BPF', '')\n",
    "    with open(dirname+'/' + new_basename,'w+',newline='') as file:\n",
    "        writer = csv.writer(file);\n",
    "        for row in info:\n",
    "            writer.writerow(row);\n",
    "            \n",
    "    # delete old file\n",
    "    os.remove(bpf_file);\n",
    "    \n",
    "    \n",
    "    "
   ]
  }
 ],
 "metadata": {
  "kernelspec": {
   "display_name": "Python 3",
   "language": "python",
   "name": "python3"
  },
  "language_info": {
   "codemirror_mode": {
    "name": "ipython",
    "version": 3
   },
   "file_extension": ".py",
   "mimetype": "text/x-python",
   "name": "python",
   "nbconvert_exporter": "python",
   "pygments_lexer": "ipython3",
   "version": "3.6.8"
  },
  "toc": {
   "base_numbering": 1,
   "nav_menu": {},
   "number_sections": true,
   "sideBar": true,
   "skip_h1_title": true,
   "title_cell": "Table of Contents",
   "title_sidebar": "Contents",
   "toc_cell": false,
   "toc_position": {},
   "toc_section_display": true,
   "toc_window_display": true
  }
 },
 "nbformat": 4,
 "nbformat_minor": 4
}
